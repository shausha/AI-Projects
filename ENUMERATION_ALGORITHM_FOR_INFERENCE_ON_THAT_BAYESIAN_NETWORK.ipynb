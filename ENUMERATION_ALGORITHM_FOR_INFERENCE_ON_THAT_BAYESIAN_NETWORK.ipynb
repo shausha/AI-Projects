{
  "nbformat": 4,
  "nbformat_minor": 0,
  "metadata": {
    "colab": {
      "provenance": []
    },
    "kernelspec": {
      "name": "python3",
      "display_name": "Python 3"
    },
    "language_info": {
      "name": "python"
    }
  },
  "cells": [
    {
      "cell_type": "code",
      "execution_count": 3,
      "metadata": {
        "colab": {
          "base_uri": "https://localhost:8080/"
        },
        "id": "TyZfGPsU1hsM",
        "outputId": "fe9b068e-5e31-45a0-b76d-fa626c440957"
      },
      "outputs": [
        {
          "output_type": "stream",
          "name": "stdout",
          "text": [
            "P(ProductionDowntime=True | MachineHealth='Good' and OperatorPresence='Present') = 0.9870\n"
          ]
        }
      ],
      "source": [
        "def calculate_conditional_probability():\n",
        "    # Given probabilities\n",
        "    P_MachineHealth = 0.8  # Probability that Machine Health is 'Good'\n",
        "    P_MaintenanceAction = 0.9  # Probability of Maintenance Action\n",
        "    P_OperatorPresence_given_ProductionDowntime = {\n",
        "        True: 0.9,  # Operator is present given Production Downtime is True\n",
        "        False: 0.1  # Operator is present given Production Downtime is False\n",
        "    }\n",
        "    P_ProductionDowntime_given_MachineHealth_and_MaintenanceAction = {\n",
        "        True: 0.95,  # Downtime occurs given Machine Health and Maintenance Action are good\n",
        "        False: 0.05  # Downtime occurs given Machine Health and Maintenance Action are bad\n",
        "    }\n",
        "\n",
        "    # Calculate joint probabilities\n",
        "    P_MH_PD_MA = (\n",
        "        P_MachineHealth\n",
        "        * P_ProductionDowntime_given_MachineHealth_and_MaintenanceAction[True]\n",
        "        * P_MaintenanceAction\n",
        "    )\n",
        "\n",
        "    P_Good_PD_OP = (\n",
        "        P_MachineHealth\n",
        "        * P_ProductionDowntime_given_MachineHealth_and_MaintenanceAction[True]\n",
        "        * P_OperatorPresence_given_ProductionDowntime[True]\n",
        "    )\n",
        "\n",
        "    P_ProductionDowntime_and_OperatorPresence = (\n",
        "        P_MH_PD_MA\n",
        "        + (1 - P_MachineHealth)\n",
        "        * P_ProductionDowntime_given_MachineHealth_and_MaintenanceAction[False]\n",
        "        * P_OperatorPresence_given_ProductionDowntime[True]\n",
        "    )\n",
        "\n",
        "    # Calculate conditional probability\n",
        "    conditional_probability = P_Good_PD_OP / P_ProductionDowntime_and_OperatorPresence\n",
        "\n",
        "    return conditional_probability\n",
        "\n",
        "# Call the function to calculate the conditional probability\n",
        "result = calculate_conditional_probability()\n",
        "\n",
        "# Print the result\n",
        "print(f\"P(ProductionDowntime=True | MachineHealth='Good' and OperatorPresence='Present') = {result:.4f}\")\n"
      ]
    }
  ]
}