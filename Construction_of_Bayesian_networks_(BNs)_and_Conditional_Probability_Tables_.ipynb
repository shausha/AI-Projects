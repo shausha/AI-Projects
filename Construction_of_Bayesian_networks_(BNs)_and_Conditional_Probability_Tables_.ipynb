{
  "nbformat": 4,
  "nbformat_minor": 0,
  "metadata": {
    "colab": {
      "provenance": []
    },
    "kernelspec": {
      "name": "python3",
      "display_name": "Python 3"
    },
    "language_info": {
      "name": "python"
    }
  },
  "cells": [
    {
      "cell_type": "markdown",
      "source": [
        "## Question:\n",
        "In the industrial setting represented by the Bayesian network, suppose the\n",
        "condition of the machine's health is categorized as 'Good,' the maintenance action\n",
        "planned is 'Scheduled,' and it's noted that the operator is 'Not Present' at the time.\n",
        "Under these specific circumstances, can you determine the likelihood or probability\n",
        "of an event where the production process experiences downtime? This probability\n",
        "quantifies the chances of production disruption given the health of the machine, the\n",
        "scheduled maintenance, and the absence of the operator."
      ],
      "metadata": {
        "id": "b4SaeP5bzoox"
      }
    },
    {
      "cell_type": "code",
      "execution_count": 4,
      "metadata": {
        "colab": {
          "base_uri": "https://localhost:8080/",
          "height": 1000
        },
        "id": "zUK-Z2wvzkbc",
        "outputId": "365a9f2b-4cfe-4c01-f213-4961a35d13c3"
      },
      "outputs": [
        {
          "output_type": "stream",
          "name": "stdout",
          "text": [
            "CPD for MachineHealth:\n",
            "+------------------+-----+\n",
            "| MachineHealth(0) | 0.8 |\n",
            "+------------------+-----+\n",
            "| MachineHealth(1) | 0.2 |\n",
            "+------------------+-----+\n",
            "\n",
            "CPD for ProductionDowntime:\n",
            "+-----------------------+-----+----------------------+\n",
            "| MachineHealth         | ... | MachineHealth(1)     |\n",
            "+-----------------------+-----+----------------------+\n",
            "| MaintenanceAction     | ... | MaintenanceAction(1) |\n",
            "+-----------------------+-----+----------------------+\n",
            "| OperatorPresence      | ... | OperatorPresence(1)  |\n",
            "+-----------------------+-----+----------------------+\n",
            "| ProductionDowntime(0) | ... | 0.3                  |\n",
            "+-----------------------+-----+----------------------+\n",
            "| ProductionDowntime(1) | ... | 0.7                  |\n",
            "+-----------------------+-----+----------------------+\n",
            "\n",
            "CPD for MaintenanceAction:\n",
            "+----------------------+-----+\n",
            "| MaintenanceAction(0) | 0.7 |\n",
            "+----------------------+-----+\n",
            "| MaintenanceAction(1) | 0.3 |\n",
            "+----------------------+-----+\n",
            "\n",
            "CPD for OperatorPresence:\n",
            "+---------------------+-----+\n",
            "| OperatorPresence(0) | 0.9 |\n",
            "+---------------------+-----+\n",
            "| OperatorPresence(1) | 0.1 |\n",
            "+---------------------+-----+\n",
            "\n",
            "Model is valid? True\n",
            "\n",
            "Probability of Production Downtime given MachineHealth='Good', MaintenanceAction='Scheduled', and OperatorPresence='Not Present':\n",
            "+-----------------------+---------------------------+\n",
            "| ProductionDowntime    |   phi(ProductionDowntime) |\n",
            "+=======================+===========================+\n",
            "| ProductionDowntime(0) |                    0.8000 |\n",
            "+-----------------------+---------------------------+\n",
            "| ProductionDowntime(1) |                    0.2000 |\n",
            "+-----------------------+---------------------------+\n"
          ]
        },
        {
          "output_type": "display_data",
          "data": {
            "text/plain": [
              "<Figure size 640x480 with 1 Axes>"
            ],
            "image/png": "[encoded data removed]"
          },
          "metadata": {}
        }
      ],
      "source": [
        "from pgmpy.models import BayesianNetwork\n",
        "from pgmpy.factors.discrete import TabularCPD\n",
        "import networkx as nx\n",
        "import matplotlib.pyplot as plt\n",
        "from pgmpy.inference import VariableElimination\n",
        "# Define the structure of the Bayesian network\n",
        "model = BayesianNetwork([\n",
        "('MachineHealth', 'ProductionDowntime'), # MachineHealth is the parent of ProductionDowntime\n",
        "('MaintenanceAction', 'ProductionDowntime'), # MaintenanceAction is the parent of ProductionDowntime\n",
        "('OperatorPresence', 'ProductionDowntime') # OperatorPresence is the parent of ProductionDowntime\n",
        "                          ])\n",
        "# Define conditional probability distributions (CPDs)\n",
        "machine_health_cpd = TabularCPD(variable='MachineHealth', variable_card=2,values=[[0.8], [0.2]])\n",
        "maintenance_action_cpd = TabularCPD(variable='MaintenanceAction',variable_card=2, values=[[0.7], [0.3]])\n",
        "operator_presence_cpd = TabularCPD(variable='OperatorPresence',variable_card=2, values=[[0.9], [0.1]])\n",
        "# CPD for ProductionDowntime with all parents\n",
        "production_downtime_cpd = TabularCPD(variable='ProductionDowntime',variable_card=2, values=[[0.95, 0.8, 0.9, 0.7, 0.7, 0.4, 0.5, 0.3], [0.05, 0.2, 0.1, 0.3, 0.3,0.6, 0.5, 0.7]],evidence=['MachineHealth', 'MaintenanceAction','OperatorPresence'], evidence_card=[2, 2, 2])\n",
        "# Associate CPDs with the model\n",
        "model.add_cpds(machine_health_cpd, maintenance_action_cpd,\n",
        "operator_presence_cpd, production_downtime_cpd)\n",
        "# Print CPDs\n",
        "for node in model.nodes():\n",
        "  print(f\"CPD for {node}:\\n{model.get_cpds(node)}\\n\")\n",
        "# Check if the model is valid\n",
        "print(\"Model is valid?\", model.check_model())\n",
        "# Create a directed graph from the model's edges\n",
        "G = nx.DiGraph(model.edges())\n",
        "# Observe that the machine health is 'Good' (0), the maintenance action is 'Scheduled' (0),\n",
        "# and the operator is not present (1)\n",
        "\n",
        "evidence = {'MachineHealth': 0, 'MaintenanceAction': 0, 'OperatorPresence': 1}\n",
        "# Create a VariableElimination object for inference\n",
        "inference = VariableElimination(model)\n",
        "# Perform inference to calculate probabilities\n",
        "prob_downtime_given_evidence =inference.query(variables=['ProductionDowntime'], evidence=evidence)\n",
        "# Print the results\n",
        "print(\"\\nProbability of Production Downtime given MachineHealth='Good', MaintenanceAction='Scheduled', and OperatorPresence='Not Present':\")\n",
        "print(prob_downtime_given_evidence)\n",
        "# Specify a custom layout for the nodes\n",
        "layout = {\n",
        "'MachineHealth': (0, 0), # Position of 'MachineHealth' node\n",
        "'MaintenanceAction': (1, 0), # Position of 'MaintenanceAction' node\n",
        "'OperatorPresence': (2, 0), # Position of 'OperatorPresence' node\n",
        "'ProductionDowntime': (1.5, -1) # Position of 'ProductionDowntime' node\n",
        "}\n",
        "# Create a color dictionary\n",
        "color_map = {'MachineHealth': 'lightblue', 'MaintenanceAction': 'lightgreen',\n",
        "'OperatorPresence': 'lightyellow', 'ProductionDowntime': 'lightcoral'}\n",
        "# Draw the graph with the specified layout and node colors\n",
        "nx.draw(G, layout, with_labels=True, node_size=3000,\n",
        "node_color=[color_map.get(node, 'lightgray') for node in G.nodes()], font_size=10)\n",
        "plt.show()"
      ]
    },
    {
      "cell_type": "code",
      "source": [
        "!pip install pgmpy\n",
        "!pip install networkx\n",
        "!pip install matplotlib\n",
        "!pip install pgmpy.models\n",
        "!pip install pgmpy.factors\n",
        "!pip install pgmpy.inference"
      ],
      "metadata": {
        "colab": {
          "base_uri": "https://localhost:8080/"
        },
        "id": "KCzIn9oO0Xtw",
        "outputId": "65b1f8d5-9d02-4306-d573-a0cb5102e0ae"
      },
      "execution_count": 3,
      "outputs": [
        {
          "output_type": "stream",
          "name": "stdout",
          "text": [
            "Collecting pgmpy\n",
            "  Downloading pgmpy-0.1.26-py3-none-any.whl.metadata (9.1 kB)\n",
            "Requirement already satisfied: networkx in /usr/local/lib/python3.10/dist-packages (from pgmpy) (3.4.2)\n",
            "Requirement already satisfied: numpy in /usr/local/lib/python3.10/dist-packages (from pgmpy) (1.26.4)\n",
            "Requirement already satisfied: scipy in /usr/local/lib/python3.10/dist-packages (from pgmpy) (1.13.1)\n",
            "Requirement already satisfied: scikit-learn in /usr/local/lib/python3.10/dist-packages (from pgmpy) (1.5.2)\n",
            "Requirement already satisfied: pandas in /usr/local/lib/python3.10/dist-packages (from pgmpy) (2.2.2)\n",
            "Requirement already satisfied: pyparsing in /usr/local/lib/python3.10/dist-packages (from pgmpy) (3.2.0)\n",
            "Requirement already satisfied: torch in /usr/local/lib/python3.10/dist-packages (from pgmpy) (2.5.1+cu121)\n",
            "Requirement already satisfied: statsmodels in /usr/local/lib/python3.10/dist-packages (from pgmpy) (0.14.4)\n",
            "Requirement already satisfied: tqdm in /usr/local/lib/python3.10/dist-packages (from pgmpy) (4.66.6)\n",
            "Requirement already satisfied: joblib in /usr/local/lib/python3.10/dist-packages (from pgmpy) (1.4.2)\n",
            "Requirement already satisfied: opt-einsum in /usr/local/lib/python3.10/dist-packages (from pgmpy) (3.4.0)\n",
            "Requirement already satisfied: xgboost in /usr/local/lib/python3.10/dist-packages (from pgmpy) (2.1.2)\n",
            "Requirement already satisfied: google-generativeai in /usr/local/lib/python3.10/dist-packages (from pgmpy) (0.8.3)\n",
            "Requirement already satisfied: google-ai-generativelanguage==0.6.10 in /usr/local/lib/python3.10/dist-packages (from google-generativeai->pgmpy) (0.6.10)\n",
            "Requirement already satisfied: google-api-core in /usr/local/lib/python3.10/dist-packages (from google-generativeai->pgmpy) (2.19.2)\n",
            "Requirement already satisfied: google-api-python-client in /usr/local/lib/python3.10/dist-packages (from google-generativeai->pgmpy) (2.151.0)\n",
            "Requirement already satisfied: google-auth>=2.15.0 in /usr/local/lib/python3.10/dist-packages (from google-generativeai->pgmpy) (2.27.0)\n",
            "Requirement already satisfied: protobuf in /usr/local/lib/python3.10/dist-packages (from google-generativeai->pgmpy) (4.25.5)\n",
            "Requirement already satisfied: pydantic in /usr/local/lib/python3.10/dist-packages (from google-generativeai->pgmpy) (2.9.2)\n",
            "Requirement already satisfied: typing-extensions in /usr/local/lib/python3.10/dist-packages (from google-generativeai->pgmpy) (4.12.2)\n",
            "Requirement already satisfied: proto-plus<2.0.0dev,>=1.22.3 in /usr/local/lib/python3.10/dist-packages (from google-ai-generativelanguage==0.6.10->google-generativeai->pgmpy) (1.25.0)\n",
            "Requirement already satisfied: python-dateutil>=2.8.2 in /usr/local/lib/python3.10/dist-packages (from pandas->pgmpy) (2.8.2)\n",
            "Requirement already satisfied: pytz>=2020.1 in /usr/local/lib/python3.10/dist-packages (from pandas->pgmpy) (2024.2)\n",
            "Requirement already satisfied: tzdata>=2022.7 in /usr/local/lib/python3.10/dist-packages (from pandas->pgmpy) (2024.2)\n",
            "Requirement already satisfied: threadpoolctl>=3.1.0 in /usr/local/lib/python3.10/dist-packages (from scikit-learn->pgmpy) (3.5.0)\n",
            "Requirement already satisfied: patsy>=0.5.6 in /usr/local/lib/python3.10/dist-packages (from statsmodels->pgmpy) (1.0.1)\n",
            "Requirement already satisfied: packaging>=21.3 in /usr/local/lib/python3.10/dist-packages (from statsmodels->pgmpy) (24.2)\n",
            "Requirement already satisfied: filelock in /usr/local/lib/python3.10/dist-packages (from torch->pgmpy) (3.16.1)\n",
            "Requirement already satisfied: jinja2 in /usr/local/lib/python3.10/dist-packages (from torch->pgmpy) (3.1.4)\n",
            "Requirement already satisfied: fsspec in /usr/local/lib/python3.10/dist-packages (from torch->pgmpy) (2024.10.0)\n",
            "Requirement already satisfied: sympy==1.13.1 in /usr/local/lib/python3.10/dist-packages (from torch->pgmpy) (1.13.1)\n",
            "Requirement already satisfied: mpmath<1.4,>=1.1.0 in /usr/local/lib/python3.10/dist-packages (from sympy==1.13.1->torch->pgmpy) (1.3.0)\n",
            "Requirement already satisfied: nvidia-nccl-cu12 in /usr/local/lib/python3.10/dist-packages (from xgboost->pgmpy) (2.23.4)\n",
            "Requirement already satisfied: googleapis-common-protos<2.0.dev0,>=1.56.2 in /usr/local/lib/python3.10/dist-packages (from google-api-core->google-generativeai->pgmpy) (1.66.0)\n",
            "Requirement already satisfied: requests<3.0.0.dev0,>=2.18.0 in /usr/local/lib/python3.10/dist-packages (from google-api-core->google-generativeai->pgmpy) (2.32.3)\n",
            "Requirement already satisfied: cachetools<6.0,>=2.0.0 in /usr/local/lib/python3.10/dist-packages (from google-auth>=2.15.0->google-generativeai->pgmpy) (5.5.0)\n",
            "Requirement already satisfied: pyasn1-modules>=0.2.1 in /usr/local/lib/python3.10/dist-packages (from google-auth>=2.15.0->google-generativeai->pgmpy) (0.4.1)\n",
            "Requirement already satisfied: rsa<5,>=3.1.4 in /usr/local/lib/python3.10/dist-packages (from google-auth>=2.15.0->google-generativeai->pgmpy) (4.9)\n",
            "Requirement already satisfied: six>=1.5 in /usr/local/lib/python3.10/dist-packages (from python-dateutil>=2.8.2->pandas->pgmpy) (1.16.0)\n",
            "Requirement already satisfied: httplib2<1.dev0,>=0.19.0 in /usr/local/lib/python3.10/dist-packages (from google-api-python-client->google-generativeai->pgmpy) (0.22.0)\n",
            "Requirement already satisfied: google-auth-httplib2<1.0.0,>=0.2.0 in /usr/local/lib/python3.10/dist-packages (from google-api-python-client->google-generativeai->pgmpy) (0.2.0)\n",
            "Requirement already satisfied: uritemplate<5,>=3.0.1 in /usr/local/lib/python3.10/dist-packages (from google-api-python-client->google-generativeai->pgmpy) (4.1.1)\n",
            "Requirement already satisfied: MarkupSafe>=2.0 in /usr/local/lib/python3.10/dist-packages (from jinja2->torch->pgmpy) (3.0.2)\n",
            "Requirement already satisfied: annotated-types>=0.6.0 in /usr/local/lib/python3.10/dist-packages (from pydantic->google-generativeai->pgmpy) (0.7.0)\n",
            "Requirement already satisfied: pydantic-core==2.23.4 in /usr/local/lib/python3.10/dist-packages (from pydantic->google-generativeai->pgmpy) (2.23.4)\n",
            "Requirement already satisfied: grpcio<2.0dev,>=1.33.2 in /usr/local/lib/python3.10/dist-packages (from google-api-core[grpc]!=2.0.*,!=2.1.*,!=2.10.*,!=2.2.*,!=2.3.*,!=2.4.*,!=2.5.*,!=2.6.*,!=2.7.*,!=2.8.*,!=2.9.*,<3.0.0dev,>=1.34.1->google-ai-generativelanguage==0.6.10->google-generativeai->pgmpy) (1.68.0)\n",
            "Requirement already satisfied: grpcio-status<2.0.dev0,>=1.33.2 in /usr/local/lib/python3.10/dist-packages (from google-api-core[grpc]!=2.0.*,!=2.1.*,!=2.10.*,!=2.2.*,!=2.3.*,!=2.4.*,!=2.5.*,!=2.6.*,!=2.7.*,!=2.8.*,!=2.9.*,<3.0.0dev,>=1.34.1->google-ai-generativelanguage==0.6.10->google-generativeai->pgmpy) (1.62.3)\n",
            "Requirement already satisfied: pyasn1<0.7.0,>=0.4.6 in /usr/local/lib/python3.10/dist-packages (from pyasn1-modules>=0.2.1->google-auth>=2.15.0->google-generativeai->pgmpy) (0.6.1)\n",
            "Requirement already satisfied: charset-normalizer<4,>=2 in /usr/local/lib/python3.10/dist-packages (from requests<3.0.0.dev0,>=2.18.0->google-api-core->google-generativeai->pgmpy) (3.4.0)\n",
            "Requirement already satisfied: idna<4,>=2.5 in /usr/local/lib/python3.10/dist-packages (from requests<3.0.0.dev0,>=2.18.0->google-api-core->google-generativeai->pgmpy) (3.10)\n",
            "Requirement already satisfied: urllib3<3,>=1.21.1 in /usr/local/lib/python3.10/dist-packages (from requests<3.0.0.dev0,>=2.18.0->google-api-core->google-generativeai->pgmpy) (2.2.3)\n",
            "Requirement already satisfied: certifi>=2017.4.17 in /usr/local/lib/python3.10/dist-packages (from requests<3.0.0.dev0,>=2.18.0->google-api-core->google-generativeai->pgmpy) (2024.8.30)\n",
            "Downloading pgmpy-0.1.26-py3-none-any.whl (2.0 MB)\n",
            "\u001b[2K   \u001b[90m━━━━━━━━━━━━━━━━━━━━━━━━━━━━━━━━━━━━━━━━\u001b[0m \u001b[32m2.0/2.0 MB\u001b[0m \u001b[31m28.3 MB/s\u001b[0m eta \u001b[36m0:00:00\u001b[0m\n",
            "\u001b[?25hInstalling collected packages: pgmpy\n",
            "Successfully installed pgmpy-0.1.26\n",
            "Requirement already satisfied: networkx in /usr/local/lib/python3.10/dist-packages (3.4.2)\n",
            "Requirement already satisfied: matplotlib in /usr/local/lib/python3.10/dist-packages (3.8.0)\n",
            "Requirement already satisfied: contourpy>=1.0.1 in /usr/local/lib/python3.10/dist-packages (from matplotlib) (1.3.1)\n",
            "Requirement already satisfied: cycler>=0.10 in /usr/local/lib/python3.10/dist-packages (from matplotlib) (0.12.1)\n",
            "Requirement already satisfied: fonttools>=4.22.0 in /usr/local/lib/python3.10/dist-packages (from matplotlib) (4.55.0)\n",
            "Requirement already satisfied: kiwisolver>=1.0.1 in /usr/local/lib/python3.10/dist-packages (from matplotlib) (1.4.7)\n",
            "Requirement already satisfied: numpy<2,>=1.21 in /usr/local/lib/python3.10/dist-packages (from matplotlib) (1.26.4)\n",
            "Requirement already satisfied: packaging>=20.0 in /usr/local/lib/python3.10/dist-packages (from matplotlib) (24.2)\n",
            "Requirement already satisfied: pillow>=6.2.0 in /usr/local/lib/python3.10/dist-packages (from matplotlib) (11.0.0)\n",
            "Requirement already satisfied: pyparsing>=2.3.1 in /usr/local/lib/python3.10/dist-packages (from matplotlib) (3.2.0)\n",
            "Requirement already satisfied: python-dateutil>=2.7 in /usr/local/lib/python3.10/dist-packages (from matplotlib) (2.8.2)\n",
            "Requirement already satisfied: six>=1.5 in /usr/local/lib/python3.10/dist-packages (from python-dateutil>=2.7->matplotlib) (1.16.0)\n",
            "\u001b[31mERROR: Could not find a version that satisfies the requirement pgmpy.models (from versions: none)\u001b[0m\u001b[31m\n",
            "\u001b[0m\u001b[31mERROR: No matching distribution found for pgmpy.models\u001b[0m\u001b[31m\n",
            "\u001b[0m\u001b[31mERROR: Could not find a version that satisfies the requirement pgmpy.factors (from versions: none)\u001b[0m\u001b[31m\n",
            "\u001b[0m\u001b[31mERROR: No matching distribution found for pgmpy.factors\u001b[0m\u001b[31m\n",
            "\u001b[0m\u001b[31mERROR: Could not find a version that satisfies the requirement pgmpy.inference (from versions: none)\u001b[0m\u001b[31m\n",
            "\u001b[0m\u001b[31mERROR: No matching distribution found for pgmpy.inference\u001b[0m\u001b[31m\n",
            "\u001b[0m"
          ]
        }
      ]
    }
  ]
}