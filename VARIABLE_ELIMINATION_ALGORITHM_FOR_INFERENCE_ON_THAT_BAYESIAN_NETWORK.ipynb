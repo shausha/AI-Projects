{
  "nbformat": 4,
  "nbformat_minor": 0,
  "metadata": {
    "colab": {
      "provenance": []
    },
    "kernelspec": {
      "name": "python3",
      "display_name": "Python 3"
    },
    "language_info": {
      "name": "python"
    }
  },
  "cells": [
    {
      "cell_type": "code",
      "source": [
        "from pgmpy.models import BayesianNetwork\n",
        "from pgmpy.factors.discrete import TabularCPD\n",
        "from pgmpy.inference import VariableElimination\n",
        "import networkx as nx\n",
        "import matplotlib.pyplot as plt\n",
        "# Define the structure of the Bayesian network\n",
        "model = BayesianNetwork([\n",
        "('MachineHealth', 'ProductionDowntime'),\n",
        "('MaintenanceAction', 'ProductionDowntime'),\n",
        "('ProductionDowntime', 'OperatorPresence') ])\n",
        "\n",
        "# Define conditional probability distributions (CPDs)\n",
        "machine_health_cpd = TabularCPD(variable='MachineHealth', variable_card=2,values=[[0.8], [0.2]])\n",
        "\n",
        "maintenance_action_cpd = TabularCPD(variable='MaintenanceAction', variable_card=2, values=[[0.7], [0.3]])\n",
        "\n",
        "operator_presence_cpd = TabularCPD(variable='OperatorPresence',variable_card=2, values=[[0.9, 0.1], [0.1, 0.9]], # Updated CPD\n",
        "evidence=['ProductionDowntime'],\n",
        "evidence_card=[2])\n",
        "\n",
        "production_downtime_cpd = TabularCPD(variable='ProductionDowntime',variable_card=2,values=[[0.95, 0.8, 0.9, 0.7],[0.05, 0.2, 0.1, 0.3]],evidence=['MachineHealth', 'MaintenanceAction'],\n",
        "evidence_card=[2, 2])\n",
        "# Associate CPDs with the model\n",
        "model.add_cpds(machine_health_cpd, maintenance_action_cpd,operator_presence_cpd, production_downtime_cpd)\n",
        "# Check if the model is valid\n",
        "is_valid = model.check_model()\n",
        "print(\"Model is valid?\", is_valid)\n",
        "# Create a VariableElimination object for inference\n",
        "inference = VariableElimination(model)\n",
        "# Specify the evidence for MachineHealth and MaintenanceAction\n",
        "evidence = {'MachineHealth': 0, 'MaintenanceAction': 0}\n",
        "\n",
        "# Specify the query variable\n",
        "query_variable = 'ProductionDowntime'\n",
        "# Perform inference to calculate the conditional probability\n",
        "conditional_probability = inference.query(variables=[query_variable], evidence=evidence)\n",
        "# Print CPDs\n",
        "for node in model.nodes():\n",
        "  print(f\"CPD for {node}:\\n{model.get_cpds(node)}\\n\")\n",
        "# Print the query variable, evidence, and hidden variable\n",
        "print(f\"Query Variable: {query_variable}\")\n",
        "print(f\"Evidence Variables: {', '.join(evidence.keys())}\")\n",
        "hidden_variable = [var for var in model.nodes() if var != query_variable and var not in evidence.keys()]\n",
        "print(f\"Hidden Variable: {', '.join(hidden_variable)}\")\n",
        "# Specify the evidence for MachineHealth and OperatorPresence\n",
        "evidence = {'MachineHealth': 0, 'OperatorPresence': 1}\n",
        "# Perform inference to calculate the conditional probability\n",
        "conditional_probability = inference.query(variables=[query_variable], evidence=evidence)\n",
        "# Print the conditional probability\n",
        "print(f\"\\nConditional Probability of {query_variable} given MachineHealth='Good' and OperatorPresence='Present':\")\n",
        "print(conditional_probability.values)\n",
        "# Create a directed graph from the model's edges\n",
        "G = nx.DiGraph(model.edges())\n",
        "\n",
        "# Specify a custom layout for the nodes\n",
        "layout = {\n",
        "'MachineHealth': (0, 0),\n",
        "'MaintenanceAction': (1, 0),\n",
        "'OperatorPresence': (1.5, -1),\n",
        "'ProductionDowntime': (2, 0)\n",
        "}\n",
        "# Create a color dictionary for node colors\n",
        "color_map = {'MachineHealth': 'lightblue', 'MaintenanceAction': 'lightgreen',\n",
        "'OperatorPresence': 'lightyellow', 'ProductionDowntime': 'lightcoral'}\n",
        "# Draw the graph with the specified layout and node colors\n",
        "nx.draw(G, layout, with_labels=True, node_size=3000,\n",
        "node_color=[color_map.get(node, 'lightgray') for node in G.nodes()], font_size=10)\n",
        "plt.show()"
      ],
      "metadata": {
        "colab": {
          "base_uri": "https://localhost:8080/",
          "height": 1000
        },
        "id": "nigmUxlW0zon",
        "outputId": "b6fe3410-1d1a-4fe1-d711-67549d357dc6"
      },
      "execution_count": 3,
      "outputs": [
        {
          "output_type": "stream",
          "name": "stdout",
          "text": [
            "Model is valid? True\n",
            "CPD for MachineHealth:\n",
            "+------------------+-----+\n",
            "| MachineHealth(0) | 0.8 |\n",
            "+------------------+-----+\n",
            "| MachineHealth(1) | 0.2 |\n",
            "+------------------+-----+\n",
            "\n",
            "CPD for ProductionDowntime:\n",
            "+-----------------------+-----+----------------------+\n",
            "| MachineHealth         | ... | MachineHealth(1)     |\n",
            "+-----------------------+-----+----------------------+\n",
            "| MaintenanceAction     | ... | MaintenanceAction(1) |\n",
            "+-----------------------+-----+----------------------+\n",
            "| ProductionDowntime(0) | ... | 0.7                  |\n",
            "+-----------------------+-----+----------------------+\n",
            "| ProductionDowntime(1) | ... | 0.3                  |\n",
            "+-----------------------+-----+----------------------+\n",
            "\n",
            "CPD for MaintenanceAction:\n",
            "+----------------------+-----+\n",
            "| MaintenanceAction(0) | 0.7 |\n",
            "+----------------------+-----+\n",
            "| MaintenanceAction(1) | 0.3 |\n",
            "+----------------------+-----+\n",
            "\n",
            "CPD for OperatorPresence:\n",
            "+---------------------+-----------------------+-----------------------+\n",
            "| ProductionDowntime  | ProductionDowntime(0) | ProductionDowntime(1) |\n",
            "+---------------------+-----------------------+-----------------------+\n",
            "| OperatorPresence(0) | 0.9                   | 0.1                   |\n",
            "+---------------------+-----------------------+-----------------------+\n",
            "| OperatorPresence(1) | 0.1                   | 0.9                   |\n",
            "+---------------------+-----------------------+-----------------------+\n",
            "\n",
            "Query Variable: ProductionDowntime\n",
            "Evidence Variables: MachineHealth, MaintenanceAction\n",
            "Hidden Variable: OperatorPresence\n",
            "\n",
            "Conditional Probability of ProductionDowntime given MachineHealth='Good' and OperatorPresence='Present':\n",
            "[0.51420455 0.48579545]\n"
          ]
        },
        {
          "output_type": "display_data",
          "data": {
            "text/plain": [
              "<Figure size 640x480 with 1 Axes>"
            ],
            "image/png": "[encoded data removed]"
          },
          "metadata": {}
        }
      ]
    },
    {
      "cell_type": "code",
      "source": [
        "!pip install pgmpy"
      ],
      "metadata": {
        "colab": {
          "base_uri": "https://localhost:8080/"
        },
        "id": "DI_ENjHB1Sqa",
        "outputId": "ea2837e1-4196-4b73-84bb-5300eda0715d"
      },
      "execution_count": 2,
      "outputs": [
        {
          "output_type": "stream",
          "name": "stdout",
          "text": [
            "Collecting pgmpy\n",
            "  Downloading pgmpy-0.1.26-py3-none-any.whl.metadata (9.1 kB)\n",
            "Requirement already satisfied: networkx in /usr/local/lib/python3.10/dist-packages (from pgmpy) (3.4.2)\n",
            "Requirement already satisfied: numpy in /usr/local/lib/python3.10/dist-packages (from pgmpy) (1.26.4)\n",
            "Requirement already satisfied: scipy in /usr/local/lib/python3.10/dist-packages (from pgmpy) (1.13.1)\n",
            "Requirement already satisfied: scikit-learn in /usr/local/lib/python3.10/dist-packages (from pgmpy) (1.5.2)\n",
            "Requirement already satisfied: pandas in /usr/local/lib/python3.10/dist-packages (from pgmpy) (2.2.2)\n",
            "Requirement already satisfied: pyparsing in /usr/local/lib/python3.10/dist-packages (from pgmpy) (3.2.0)\n",
            "Requirement already satisfied: torch in /usr/local/lib/python3.10/dist-packages (from pgmpy) (2.5.1+cu121)\n",
            "Requirement already satisfied: statsmodels in /usr/local/lib/python3.10/dist-packages (from pgmpy) (0.14.4)\n",
            "Requirement already satisfied: tqdm in /usr/local/lib/python3.10/dist-packages (from pgmpy) (4.66.6)\n",
            "Requirement already satisfied: joblib in /usr/local/lib/python3.10/dist-packages (from pgmpy) (1.4.2)\n",
            "Requirement already satisfied: opt-einsum in /usr/local/lib/python3.10/dist-packages (from pgmpy) (3.4.0)\n",
            "Requirement already satisfied: xgboost in /usr/local/lib/python3.10/dist-packages (from pgmpy) (2.1.2)\n",
            "Requirement already satisfied: google-generativeai in /usr/local/lib/python3.10/dist-packages (from pgmpy) (0.8.3)\n",
            "Requirement already satisfied: google-ai-generativelanguage==0.6.10 in /usr/local/lib/python3.10/dist-packages (from google-generativeai->pgmpy) (0.6.10)\n",
            "Requirement already satisfied: google-api-core in /usr/local/lib/python3.10/dist-packages (from google-generativeai->pgmpy) (2.19.2)\n",
            "Requirement already satisfied: google-api-python-client in /usr/local/lib/python3.10/dist-packages (from google-generativeai->pgmpy) (2.151.0)\n",
            "Requirement already satisfied: google-auth>=2.15.0 in /usr/local/lib/python3.10/dist-packages (from google-generativeai->pgmpy) (2.27.0)\n",
            "Requirement already satisfied: protobuf in /usr/local/lib/python3.10/dist-packages (from google-generativeai->pgmpy) (4.25.5)\n",
            "Requirement already satisfied: pydantic in /usr/local/lib/python3.10/dist-packages (from google-generativeai->pgmpy) (2.9.2)\n",
            "Requirement already satisfied: typing-extensions in /usr/local/lib/python3.10/dist-packages (from google-generativeai->pgmpy) (4.12.2)\n",
            "Requirement already satisfied: proto-plus<2.0.0dev,>=1.22.3 in /usr/local/lib/python3.10/dist-packages (from google-ai-generativelanguage==0.6.10->google-generativeai->pgmpy) (1.25.0)\n",
            "Requirement already satisfied: python-dateutil>=2.8.2 in /usr/local/lib/python3.10/dist-packages (from pandas->pgmpy) (2.8.2)\n",
            "Requirement already satisfied: pytz>=2020.1 in /usr/local/lib/python3.10/dist-packages (from pandas->pgmpy) (2024.2)\n",
            "Requirement already satisfied: tzdata>=2022.7 in /usr/local/lib/python3.10/dist-packages (from pandas->pgmpy) (2024.2)\n",
            "Requirement already satisfied: threadpoolctl>=3.1.0 in /usr/local/lib/python3.10/dist-packages (from scikit-learn->pgmpy) (3.5.0)\n",
            "Requirement already satisfied: patsy>=0.5.6 in /usr/local/lib/python3.10/dist-packages (from statsmodels->pgmpy) (1.0.1)\n",
            "Requirement already satisfied: packaging>=21.3 in /usr/local/lib/python3.10/dist-packages (from statsmodels->pgmpy) (24.2)\n",
            "Requirement already satisfied: filelock in /usr/local/lib/python3.10/dist-packages (from torch->pgmpy) (3.16.1)\n",
            "Requirement already satisfied: jinja2 in /usr/local/lib/python3.10/dist-packages (from torch->pgmpy) (3.1.4)\n",
            "Requirement already satisfied: fsspec in /usr/local/lib/python3.10/dist-packages (from torch->pgmpy) (2024.10.0)\n",
            "Requirement already satisfied: sympy==1.13.1 in /usr/local/lib/python3.10/dist-packages (from torch->pgmpy) (1.13.1)\n",
            "Requirement already satisfied: mpmath<1.4,>=1.1.0 in /usr/local/lib/python3.10/dist-packages (from sympy==1.13.1->torch->pgmpy) (1.3.0)\n",
            "Requirement already satisfied: nvidia-nccl-cu12 in /usr/local/lib/python3.10/dist-packages (from xgboost->pgmpy) (2.23.4)\n",
            "Requirement already satisfied: googleapis-common-protos<2.0.dev0,>=1.56.2 in /usr/local/lib/python3.10/dist-packages (from google-api-core->google-generativeai->pgmpy) (1.66.0)\n",
            "Requirement already satisfied: requests<3.0.0.dev0,>=2.18.0 in /usr/local/lib/python3.10/dist-packages (from google-api-core->google-generativeai->pgmpy) (2.32.3)\n",
            "Requirement already satisfied: cachetools<6.0,>=2.0.0 in /usr/local/lib/python3.10/dist-packages (from google-auth>=2.15.0->google-generativeai->pgmpy) (5.5.0)\n",
            "Requirement already satisfied: pyasn1-modules>=0.2.1 in /usr/local/lib/python3.10/dist-packages (from google-auth>=2.15.0->google-generativeai->pgmpy) (0.4.1)\n",
            "Requirement already satisfied: rsa<5,>=3.1.4 in /usr/local/lib/python3.10/dist-packages (from google-auth>=2.15.0->google-generativeai->pgmpy) (4.9)\n",
            "Requirement already satisfied: six>=1.5 in /usr/local/lib/python3.10/dist-packages (from python-dateutil>=2.8.2->pandas->pgmpy) (1.16.0)\n",
            "Requirement already satisfied: httplib2<1.dev0,>=0.19.0 in /usr/local/lib/python3.10/dist-packages (from google-api-python-client->google-generativeai->pgmpy) (0.22.0)\n",
            "Requirement already satisfied: google-auth-httplib2<1.0.0,>=0.2.0 in /usr/local/lib/python3.10/dist-packages (from google-api-python-client->google-generativeai->pgmpy) (0.2.0)\n",
            "Requirement already satisfied: uritemplate<5,>=3.0.1 in /usr/local/lib/python3.10/dist-packages (from google-api-python-client->google-generativeai->pgmpy) (4.1.1)\n",
            "Requirement already satisfied: MarkupSafe>=2.0 in /usr/local/lib/python3.10/dist-packages (from jinja2->torch->pgmpy) (3.0.2)\n",
            "Requirement already satisfied: annotated-types>=0.6.0 in /usr/local/lib/python3.10/dist-packages (from pydantic->google-generativeai->pgmpy) (0.7.0)\n",
            "Requirement already satisfied: pydantic-core==2.23.4 in /usr/local/lib/python3.10/dist-packages (from pydantic->google-generativeai->pgmpy) (2.23.4)\n",
            "Requirement already satisfied: grpcio<2.0dev,>=1.33.2 in /usr/local/lib/python3.10/dist-packages (from google-api-core[grpc]!=2.0.*,!=2.1.*,!=2.10.*,!=2.2.*,!=2.3.*,!=2.4.*,!=2.5.*,!=2.6.*,!=2.7.*,!=2.8.*,!=2.9.*,<3.0.0dev,>=1.34.1->google-ai-generativelanguage==0.6.10->google-generativeai->pgmpy) (1.68.0)\n",
            "Requirement already satisfied: grpcio-status<2.0.dev0,>=1.33.2 in /usr/local/lib/python3.10/dist-packages (from google-api-core[grpc]!=2.0.*,!=2.1.*,!=2.10.*,!=2.2.*,!=2.3.*,!=2.4.*,!=2.5.*,!=2.6.*,!=2.7.*,!=2.8.*,!=2.9.*,<3.0.0dev,>=1.34.1->google-ai-generativelanguage==0.6.10->google-generativeai->pgmpy) (1.62.3)\n",
            "Requirement already satisfied: pyasn1<0.7.0,>=0.4.6 in /usr/local/lib/python3.10/dist-packages (from pyasn1-modules>=0.2.1->google-auth>=2.15.0->google-generativeai->pgmpy) (0.6.1)\n",
            "Requirement already satisfied: charset-normalizer<4,>=2 in /usr/local/lib/python3.10/dist-packages (from requests<3.0.0.dev0,>=2.18.0->google-api-core->google-generativeai->pgmpy) (3.4.0)\n",
            "Requirement already satisfied: idna<4,>=2.5 in /usr/local/lib/python3.10/dist-packages (from requests<3.0.0.dev0,>=2.18.0->google-api-core->google-generativeai->pgmpy) (3.10)\n",
            "Requirement already satisfied: urllib3<3,>=1.21.1 in /usr/local/lib/python3.10/dist-packages (from requests<3.0.0.dev0,>=2.18.0->google-api-core->google-generativeai->pgmpy) (2.2.3)\n",
            "Requirement already satisfied: certifi>=2017.4.17 in /usr/local/lib/python3.10/dist-packages (from requests<3.0.0.dev0,>=2.18.0->google-api-core->google-generativeai->pgmpy) (2024.8.30)\n",
            "Downloading pgmpy-0.1.26-py3-none-any.whl (2.0 MB)\n",
            "\u001b[2K   \u001b[90m━━━━━━━━━━━━━━━━━━━━━━━━━━━━━━━━━━━━━━━━\u001b[0m \u001b[32m2.0/2.0 MB\u001b[0m \u001b[31m26.3 MB/s\u001b[0m eta \u001b[36m0:00:00\u001b[0m\n",
            "\u001b[?25hInstalling collected packages: pgmpy\n",
            "Successfully installed pgmpy-0.1.26\n"
          ]
        }
      ]
    }
  ]
}